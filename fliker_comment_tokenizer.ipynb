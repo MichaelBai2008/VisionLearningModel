{
 "cells": [
  {
   "cell_type": "code",
   "execution_count": null,
   "metadata": {},
   "outputs": [],
   "source": [
    "%load_ext autoreload\n",
    "%autoreload 2\n",
    "\n",
    "import torch\n",
    "import torch.nn as nn\n",
    "import pandas as pd\n",
    "import os\n",
    "os.environ[\"TOKENIZERS_PARALLELISM\"] = \"1\"\n",
    "\n",
    "from Config import Config\n",
    "from Fliker_Comment_Tokenizer import FlikerCommentTokenizer\n",
    "from pathlib import Path\n",
    "from transformers import AutoTokenizer\n",
    "from tqdm import tqdm"
   ]
  },
  {
   "cell_type": "code",
   "execution_count": null,
   "metadata": {},
   "outputs": [
    {
     "name": "stdout",
     "output_type": "stream",
     "text": [
      "Enriched img id: /tmp/enriched_results.csv\n"
     ]
    },
    {
     "name": "stdout",
     "output_type": "stream",
     "text": [
      "Enriched img id: /tmp/enriched_results.csv\n",
      "Enriched img id: /tmp/enriched_results.csv\n",
      "Enriched img id: /tmp/enriched_results.csv\n",
      "Enriched img id: /tmp/enriched_results.csv\n",
      "Enriched img id: /tmp/enriched_results.csv\n",
      "Enriched img id: /tmp/enriched_results.csv\n",
      "Enriched img id: /tmp/enriched_results.csv\n",
      "Enriched img id: /tmp/enriched_results.csv\n",
      "Enriched img id: /tmp/enriched_results.csv\n",
      "Enriched img id: /tmp/enriched_results.csv\n",
      "Enriched img id: /tmp/enriched_results.csv\n",
      "Enriched img id: /tmp/enriched_results.csv\n",
      "Enriched img id: /tmp/enriched_results.csv\n",
      "Enriched img id: /tmp/enriched_results.csv\n",
      "Enriched img id: /tmp/enriched_results.csv\n",
      "Enriched img id: /tmp/enriched_results.csv\n",
      "Enriched img id: /tmp/enriched_results.csv\n",
      "Enriched img id: /tmp/enriched_results.csv\n",
      "Enriched img id: /tmp/enriched_results.csv\n",
      "Enriched img id: /tmp/enriched_results.csv\n",
      "Enriched img id: /tmp/enriched_results.csv\n",
      "Enriched img id: /tmp/enriched_results.csv\n",
      "Enriched img id: /tmp/enriched_results.csv\n",
      "Enriched img id: /tmp/enriched_results.csv\n",
      "Enriched img id: /tmp/enriched_results.csv\n",
      "Enriched img id: /tmp/enriched_results.csv\n",
      "Enriched img id: /tmp/enriched_results.csv\n",
      "Enriched img id: /tmp/enriched_results.csv\n",
      "Enriched img id: /tmp/enriched_results.csv\n",
      "Enriched img id: /tmp/enriched_results.csv\n",
      "Enriched img id: /tmp/enriched_results.csv\n",
      "Enriched img id: /tmp/enriched_results.csv\n",
      "Enriched img id: /tmp/enriched_results.csv\n",
      "Enriched img id: /tmp/enriched_results.csv\n",
      "Enriched img id: /tmp/enriched_results.csv\n",
      "Enriched img id: /tmp/enriched_results.csv\n",
      "Enriched img id: /tmp/enriched_results.csv\n",
      "Enriched img id: /tmp/enriched_results.csv\n"
     ]
    }
   ],
   "source": [
    "config = Config()\n",
    "\n",
    "fliker_comment_toeknizer = FlikerCommentTokenizer.train_tokenizer(config=config)\n",
    "fliker_comment_toeknizer"
   ]
  },
  {
   "cell_type": "code",
   "execution_count": 4,
   "metadata": {},
   "outputs": [
    {
     "name": "stdout",
     "output_type": "stream",
     "text": [
      "Enriched img id: /tmp/enriched_results.csv\n",
      "Enriched img id: /tmp/enriched_results.csv\n",
      "Enriched img id: /tmp/enriched_results.csv\n",
      "Enriched img id: /tmp/enriched_results.csv\n",
      "Enriched img id: /tmp/enriched_results.csv\n",
      "Enriched img id: /tmp/enriched_results.csv\n",
      "Enriched img id: /tmp/enriched_results.csv\n",
      "Enriched img id: /tmp/enriched_results.csv\n",
      "Enriched img id: /tmp/enriched_results.csv\n",
      "Enriched img id: /tmp/enriched_results.csv\n",
      "Enriched img id: /tmp/enriched_results.csv\n"
     ]
    },
    {
     "ename": "KeyboardInterrupt",
     "evalue": "",
     "output_type": "error",
     "traceback": [
      "\u001b[0;31m---------------------------------------------------------------------------\u001b[0m",
      "\u001b[0;31mKeyboardInterrupt\u001b[0m                         Traceback (most recent call last)",
      "Cell \u001b[0;32mIn[4], line 1\u001b[0m\n\u001b[0;32m----> 1\u001b[0m new_fliker_comment_toeknizer \u001b[38;5;241m=\u001b[39m FlikerCommentTokenizer\u001b[38;5;241m.\u001b[39mget_tokenizer(config\u001b[38;5;241m=\u001b[39mconfig)\n\u001b[1;32m      3\u001b[0m \u001b[38;5;66;03m# test_data = \"hello, 會 員\"\u001b[39;00m\n\u001b[1;32m      4\u001b[0m test_data \u001b[38;5;241m=\u001b[39m \u001b[38;5;124m\"\u001b[39m\u001b[38;5;124m<image><bos>cheng bai<pad><eos>\u001b[39m\u001b[38;5;124m\"\u001b[39m\n",
      "File \u001b[0;32m~/ML/michael_git/VisionLearningModel/Fliker_Comment_Tokenizer.py:66\u001b[0m, in \u001b[0;36mFlikerCommentTokenizer.get_tokenizer\u001b[0;34m(config)\u001b[0m\n\u001b[1;32m     58\u001b[0m     tokenizer \u001b[38;5;241m=\u001b[39m AutoTokenizer\u001b[38;5;241m.\u001b[39mfrom_pretrained(\n\u001b[1;32m     59\u001b[0m         config\u001b[38;5;241m.\u001b[39mfliker_comment_tokenizer_local_path,\n\u001b[1;32m     60\u001b[0m         token\u001b[38;5;241m=\u001b[39mconfig\u001b[38;5;241m.\u001b[39mhf_access_token,\n\u001b[0;32m   (...)\u001b[0m\n\u001b[1;32m     63\u001b[0m         padding_side\u001b[38;5;241m=\u001b[39m\u001b[38;5;124m\"\u001b[39m\u001b[38;5;124mright\u001b[39m\u001b[38;5;124m\"\u001b[39m,\n\u001b[1;32m     64\u001b[0m     )\n\u001b[1;32m     65\u001b[0m \u001b[38;5;28;01melse\u001b[39;00m:\n\u001b[0;32m---> 66\u001b[0m     tokenizer \u001b[38;5;241m=\u001b[39m FlikerCommentTokenizer\u001b[38;5;241m.\u001b[39mtrain_tokenizer(config\u001b[38;5;241m=\u001b[39mconfig)\n\u001b[1;32m     68\u001b[0m \u001b[38;5;28mprint\u001b[39m(\u001b[38;5;124mf\u001b[39m\u001b[38;5;124m\"\u001b[39m\u001b[38;5;124mtokens: \u001b[39m\u001b[38;5;132;01m{\u001b[39;00m\u001b[38;5;28mlen\u001b[39m(tokenizer)\u001b[38;5;132;01m}\u001b[39;00m\u001b[38;5;124m\"\u001b[39m)\n\u001b[1;32m     69\u001b[0m \u001b[38;5;28mprint\u001b[39m(\u001b[38;5;124mf\u001b[39m\u001b[38;5;124m\"\u001b[39m\u001b[38;5;124mtokenizer.is_fast: \u001b[39m\u001b[38;5;132;01m{\u001b[39;00mtokenizer\u001b[38;5;241m.\u001b[39mis_fast\u001b[38;5;132;01m}\u001b[39;00m\u001b[38;5;124m\"\u001b[39m)\n",
      "File \u001b[0;32m~/ML/michael_git/VisionLearningModel/Fliker_Comment_Tokenizer.py:26\u001b[0m, in \u001b[0;36mFlikerCommentTokenizer.train_tokenizer\u001b[0;34m(config)\u001b[0m\n\u001b[1;32m     23\u001b[0m         \u001b[38;5;28;01myield\u001b[39;00m comments[i : i \u001b[38;5;241m+\u001b[39m batch_size]\n\u001b[1;32m     25\u001b[0m \u001b[38;5;66;03m# Special setup to make train split contains all of the data, in turn we can get all of the comments.\u001b[39;00m\n\u001b[0;32m---> 26\u001b[0m dataset \u001b[38;5;241m=\u001b[39m ImgCommentDataset(\n\u001b[1;32m     27\u001b[0m     config\u001b[38;5;241m=\u001b[39mconfig, split\u001b[38;5;241m=\u001b[39m\u001b[38;5;124m\"\u001b[39m\u001b[38;5;124mtrain\u001b[39m\u001b[38;5;124m\"\u001b[39m, split_portions\u001b[38;5;241m=\u001b[39m(\u001b[38;5;241m1.0\u001b[39m, \u001b[38;5;241m0\u001b[39m, \u001b[38;5;241m0\u001b[39m)\n\u001b[1;32m     28\u001b[0m )\n\u001b[1;32m     29\u001b[0m \u001b[38;5;28;01massert\u001b[39;00m dataset\u001b[38;5;241m.\u001b[39mimg_comments_df \u001b[38;5;129;01mis\u001b[39;00m \u001b[38;5;129;01mnot\u001b[39;00m \u001b[38;5;28;01mNone\u001b[39;00m\n\u001b[1;32m     30\u001b[0m \u001b[38;5;28;01massert\u001b[39;00m \u001b[38;5;124m\"\u001b[39m\u001b[38;5;124mcomment\u001b[39m\u001b[38;5;124m\"\u001b[39m \u001b[38;5;129;01min\u001b[39;00m dataset\u001b[38;5;241m.\u001b[39mimg_comments_df\n",
      "File \u001b[0;32m~/ML/michael_git/VisionLearningModel/Fliker_Image_Comment_Dataset.py:75\u001b[0m, in \u001b[0;36mImgCommentDataset.__init__\u001b[0;34m(self, config, split, split_portions)\u001b[0m\n\u001b[1;32m     72\u001b[0m     \u001b[38;5;28mself\u001b[39m\u001b[38;5;241m.\u001b[39mimg_comments_df \u001b[38;5;241m=\u001b[39m df[eval_split_index:]\n\u001b[1;32m     74\u001b[0m \u001b[38;5;66;03m# self.text_tokenizer = tiktoken.get_encoding(config.text_tiktokenizer)\u001b[39;00m\n\u001b[0;32m---> 75\u001b[0m \u001b[38;5;28mself\u001b[39m\u001b[38;5;241m.\u001b[39mtext_tokenizer \u001b[38;5;241m=\u001b[39m FlikerCommentTokenizer\u001b[38;5;241m.\u001b[39mget_tokenizer(config\u001b[38;5;241m=\u001b[39mconfig)\n",
      "File \u001b[0;32m~/ML/michael_git/VisionLearningModel/Fliker_Comment_Tokenizer.py:66\u001b[0m, in \u001b[0;36mFlikerCommentTokenizer.get_tokenizer\u001b[0;34m(config)\u001b[0m\n\u001b[1;32m     58\u001b[0m     tokenizer \u001b[38;5;241m=\u001b[39m AutoTokenizer\u001b[38;5;241m.\u001b[39mfrom_pretrained(\n\u001b[1;32m     59\u001b[0m         config\u001b[38;5;241m.\u001b[39mfliker_comment_tokenizer_local_path,\n\u001b[1;32m     60\u001b[0m         token\u001b[38;5;241m=\u001b[39mconfig\u001b[38;5;241m.\u001b[39mhf_access_token,\n\u001b[0;32m   (...)\u001b[0m\n\u001b[1;32m     63\u001b[0m         padding_side\u001b[38;5;241m=\u001b[39m\u001b[38;5;124m\"\u001b[39m\u001b[38;5;124mright\u001b[39m\u001b[38;5;124m\"\u001b[39m,\n\u001b[1;32m     64\u001b[0m     )\n\u001b[1;32m     65\u001b[0m \u001b[38;5;28;01melse\u001b[39;00m:\n\u001b[0;32m---> 66\u001b[0m     tokenizer \u001b[38;5;241m=\u001b[39m FlikerCommentTokenizer\u001b[38;5;241m.\u001b[39mtrain_tokenizer(config\u001b[38;5;241m=\u001b[39mconfig)\n\u001b[1;32m     68\u001b[0m \u001b[38;5;28mprint\u001b[39m(\u001b[38;5;124mf\u001b[39m\u001b[38;5;124m\"\u001b[39m\u001b[38;5;124mtokens: \u001b[39m\u001b[38;5;132;01m{\u001b[39;00m\u001b[38;5;28mlen\u001b[39m(tokenizer)\u001b[38;5;132;01m}\u001b[39;00m\u001b[38;5;124m\"\u001b[39m)\n\u001b[1;32m     69\u001b[0m \u001b[38;5;28mprint\u001b[39m(\u001b[38;5;124mf\u001b[39m\u001b[38;5;124m\"\u001b[39m\u001b[38;5;124mtokenizer.is_fast: \u001b[39m\u001b[38;5;132;01m{\u001b[39;00mtokenizer\u001b[38;5;241m.\u001b[39mis_fast\u001b[38;5;132;01m}\u001b[39;00m\u001b[38;5;124m\"\u001b[39m)\n",
      "File \u001b[0;32m~/ML/michael_git/VisionLearningModel/Fliker_Comment_Tokenizer.py:26\u001b[0m, in \u001b[0;36mFlikerCommentTokenizer.train_tokenizer\u001b[0;34m(config)\u001b[0m\n\u001b[1;32m     23\u001b[0m         \u001b[38;5;28;01myield\u001b[39;00m comments[i : i \u001b[38;5;241m+\u001b[39m batch_size]\n\u001b[1;32m     25\u001b[0m \u001b[38;5;66;03m# Special setup to make train split contains all of the data, in turn we can get all of the comments.\u001b[39;00m\n\u001b[0;32m---> 26\u001b[0m dataset \u001b[38;5;241m=\u001b[39m ImgCommentDataset(\n\u001b[1;32m     27\u001b[0m     config\u001b[38;5;241m=\u001b[39mconfig, split\u001b[38;5;241m=\u001b[39m\u001b[38;5;124m\"\u001b[39m\u001b[38;5;124mtrain\u001b[39m\u001b[38;5;124m\"\u001b[39m, split_portions\u001b[38;5;241m=\u001b[39m(\u001b[38;5;241m1.0\u001b[39m, \u001b[38;5;241m0\u001b[39m, \u001b[38;5;241m0\u001b[39m)\n\u001b[1;32m     28\u001b[0m )\n\u001b[1;32m     29\u001b[0m \u001b[38;5;28;01massert\u001b[39;00m dataset\u001b[38;5;241m.\u001b[39mimg_comments_df \u001b[38;5;129;01mis\u001b[39;00m \u001b[38;5;129;01mnot\u001b[39;00m \u001b[38;5;28;01mNone\u001b[39;00m\n\u001b[1;32m     30\u001b[0m \u001b[38;5;28;01massert\u001b[39;00m \u001b[38;5;124m\"\u001b[39m\u001b[38;5;124mcomment\u001b[39m\u001b[38;5;124m\"\u001b[39m \u001b[38;5;129;01min\u001b[39;00m dataset\u001b[38;5;241m.\u001b[39mimg_comments_df\n",
      "File \u001b[0;32m~/ML/michael_git/VisionLearningModel/Fliker_Image_Comment_Dataset.py:75\u001b[0m, in \u001b[0;36mImgCommentDataset.__init__\u001b[0;34m(self, config, split, split_portions)\u001b[0m\n\u001b[1;32m     72\u001b[0m     \u001b[38;5;28mself\u001b[39m\u001b[38;5;241m.\u001b[39mimg_comments_df \u001b[38;5;241m=\u001b[39m df[eval_split_index:]\n\u001b[1;32m     74\u001b[0m \u001b[38;5;66;03m# self.text_tokenizer = tiktoken.get_encoding(config.text_tiktokenizer)\u001b[39;00m\n\u001b[0;32m---> 75\u001b[0m \u001b[38;5;28mself\u001b[39m\u001b[38;5;241m.\u001b[39mtext_tokenizer \u001b[38;5;241m=\u001b[39m FlikerCommentTokenizer\u001b[38;5;241m.\u001b[39mget_tokenizer(config\u001b[38;5;241m=\u001b[39mconfig)\n",
      "    \u001b[0;31m[... skipping similar frames: FlikerCommentTokenizer.get_tokenizer at line 66 (9 times), FlikerCommentTokenizer.train_tokenizer at line 26 (9 times), ImgCommentDataset.__init__ at line 75 (8 times)]\u001b[0m\n",
      "File \u001b[0;32m~/ML/michael_git/VisionLearningModel/Fliker_Image_Comment_Dataset.py:75\u001b[0m, in \u001b[0;36mImgCommentDataset.__init__\u001b[0;34m(self, config, split, split_portions)\u001b[0m\n\u001b[1;32m     72\u001b[0m     \u001b[38;5;28mself\u001b[39m\u001b[38;5;241m.\u001b[39mimg_comments_df \u001b[38;5;241m=\u001b[39m df[eval_split_index:]\n\u001b[1;32m     74\u001b[0m \u001b[38;5;66;03m# self.text_tokenizer = tiktoken.get_encoding(config.text_tiktokenizer)\u001b[39;00m\n\u001b[0;32m---> 75\u001b[0m \u001b[38;5;28mself\u001b[39m\u001b[38;5;241m.\u001b[39mtext_tokenizer \u001b[38;5;241m=\u001b[39m FlikerCommentTokenizer\u001b[38;5;241m.\u001b[39mget_tokenizer(config\u001b[38;5;241m=\u001b[39mconfig)\n",
      "File \u001b[0;32m~/ML/michael_git/VisionLearningModel/Fliker_Comment_Tokenizer.py:66\u001b[0m, in \u001b[0;36mFlikerCommentTokenizer.get_tokenizer\u001b[0;34m(config)\u001b[0m\n\u001b[1;32m     58\u001b[0m     tokenizer \u001b[38;5;241m=\u001b[39m AutoTokenizer\u001b[38;5;241m.\u001b[39mfrom_pretrained(\n\u001b[1;32m     59\u001b[0m         config\u001b[38;5;241m.\u001b[39mfliker_comment_tokenizer_local_path,\n\u001b[1;32m     60\u001b[0m         token\u001b[38;5;241m=\u001b[39mconfig\u001b[38;5;241m.\u001b[39mhf_access_token,\n\u001b[0;32m   (...)\u001b[0m\n\u001b[1;32m     63\u001b[0m         padding_side\u001b[38;5;241m=\u001b[39m\u001b[38;5;124m\"\u001b[39m\u001b[38;5;124mright\u001b[39m\u001b[38;5;124m\"\u001b[39m,\n\u001b[1;32m     64\u001b[0m     )\n\u001b[1;32m     65\u001b[0m \u001b[38;5;28;01melse\u001b[39;00m:\n\u001b[0;32m---> 66\u001b[0m     tokenizer \u001b[38;5;241m=\u001b[39m FlikerCommentTokenizer\u001b[38;5;241m.\u001b[39mtrain_tokenizer(config\u001b[38;5;241m=\u001b[39mconfig)\n\u001b[1;32m     68\u001b[0m \u001b[38;5;28mprint\u001b[39m(\u001b[38;5;124mf\u001b[39m\u001b[38;5;124m\"\u001b[39m\u001b[38;5;124mtokens: \u001b[39m\u001b[38;5;132;01m{\u001b[39;00m\u001b[38;5;28mlen\u001b[39m(tokenizer)\u001b[38;5;132;01m}\u001b[39;00m\u001b[38;5;124m\"\u001b[39m)\n\u001b[1;32m     69\u001b[0m \u001b[38;5;28mprint\u001b[39m(\u001b[38;5;124mf\u001b[39m\u001b[38;5;124m\"\u001b[39m\u001b[38;5;124mtokenizer.is_fast: \u001b[39m\u001b[38;5;132;01m{\u001b[39;00mtokenizer\u001b[38;5;241m.\u001b[39mis_fast\u001b[38;5;132;01m}\u001b[39;00m\u001b[38;5;124m\"\u001b[39m)\n",
      "File \u001b[0;32m~/ML/michael_git/VisionLearningModel/Fliker_Comment_Tokenizer.py:26\u001b[0m, in \u001b[0;36mFlikerCommentTokenizer.train_tokenizer\u001b[0;34m(config)\u001b[0m\n\u001b[1;32m     23\u001b[0m         \u001b[38;5;28;01myield\u001b[39;00m comments[i : i \u001b[38;5;241m+\u001b[39m batch_size]\n\u001b[1;32m     25\u001b[0m \u001b[38;5;66;03m# Special setup to make train split contains all of the data, in turn we can get all of the comments.\u001b[39;00m\n\u001b[0;32m---> 26\u001b[0m dataset \u001b[38;5;241m=\u001b[39m ImgCommentDataset(\n\u001b[1;32m     27\u001b[0m     config\u001b[38;5;241m=\u001b[39mconfig, split\u001b[38;5;241m=\u001b[39m\u001b[38;5;124m\"\u001b[39m\u001b[38;5;124mtrain\u001b[39m\u001b[38;5;124m\"\u001b[39m, split_portions\u001b[38;5;241m=\u001b[39m(\u001b[38;5;241m1.0\u001b[39m, \u001b[38;5;241m0\u001b[39m, \u001b[38;5;241m0\u001b[39m)\n\u001b[1;32m     28\u001b[0m )\n\u001b[1;32m     29\u001b[0m \u001b[38;5;28;01massert\u001b[39;00m dataset\u001b[38;5;241m.\u001b[39mimg_comments_df \u001b[38;5;129;01mis\u001b[39;00m \u001b[38;5;129;01mnot\u001b[39;00m \u001b[38;5;28;01mNone\u001b[39;00m\n\u001b[1;32m     30\u001b[0m \u001b[38;5;28;01massert\u001b[39;00m \u001b[38;5;124m\"\u001b[39m\u001b[38;5;124mcomment\u001b[39m\u001b[38;5;124m\"\u001b[39m \u001b[38;5;129;01min\u001b[39;00m dataset\u001b[38;5;241m.\u001b[39mimg_comments_df\n",
      "File \u001b[0;32m~/ML/michael_git/VisionLearningModel/Fliker_Image_Comment_Dataset.py:60\u001b[0m, in \u001b[0;36mImgCommentDataset.__init__\u001b[0;34m(self, config, split, split_portions)\u001b[0m\n\u001b[1;32m     56\u001b[0m \u001b[38;5;28mself\u001b[39m\u001b[38;5;241m.\u001b[39msplit_portions \u001b[38;5;241m=\u001b[39m split_portions\n\u001b[1;32m     58\u001b[0m \u001b[38;5;66;03m# The current `results.csv` file is using \"| \" to seperate 3 columns.\u001b[39;00m\n\u001b[1;32m     59\u001b[0m \u001b[38;5;66;03m# For the pd.read_csv, the `sep` here is given as a regular expression.\u001b[39;00m\n\u001b[0;32m---> 60\u001b[0m df \u001b[38;5;241m=\u001b[39m pd\u001b[38;5;241m.\u001b[39mread_csv(\u001b[38;5;28mself\u001b[39m\u001b[38;5;241m.\u001b[39mimg_comments_file, sep\u001b[38;5;241m=\u001b[39m\u001b[38;5;124m\"\u001b[39m\u001b[38;5;124m|\u001b[39m\u001b[38;5;124m\"\u001b[39m)\n\u001b[1;32m     61\u001b[0m df \u001b[38;5;241m=\u001b[39m enrich_img_id(df)\n\u001b[1;32m     62\u001b[0m train_split_index \u001b[38;5;241m=\u001b[39m \u001b[38;5;28mint\u001b[39m(\u001b[38;5;28mlen\u001b[39m(df) \u001b[38;5;241m*\u001b[39m \u001b[38;5;28mself\u001b[39m\u001b[38;5;241m.\u001b[39msplit_portions[\u001b[38;5;241m0\u001b[39m])\n",
      "File \u001b[0;32m/opt/anaconda3/envs/torch/lib/python3.12/site-packages/pandas/io/parsers/readers.py:1026\u001b[0m, in \u001b[0;36mread_csv\u001b[0;34m(filepath_or_buffer, sep, delimiter, header, names, index_col, usecols, dtype, engine, converters, true_values, false_values, skipinitialspace, skiprows, skipfooter, nrows, na_values, keep_default_na, na_filter, verbose, skip_blank_lines, parse_dates, infer_datetime_format, keep_date_col, date_parser, date_format, dayfirst, cache_dates, iterator, chunksize, compression, thousands, decimal, lineterminator, quotechar, quoting, doublequote, escapechar, comment, encoding, encoding_errors, dialect, on_bad_lines, delim_whitespace, low_memory, memory_map, float_precision, storage_options, dtype_backend)\u001b[0m\n\u001b[1;32m   1013\u001b[0m kwds_defaults \u001b[38;5;241m=\u001b[39m _refine_defaults_read(\n\u001b[1;32m   1014\u001b[0m     dialect,\n\u001b[1;32m   1015\u001b[0m     delimiter,\n\u001b[0;32m   (...)\u001b[0m\n\u001b[1;32m   1022\u001b[0m     dtype_backend\u001b[38;5;241m=\u001b[39mdtype_backend,\n\u001b[1;32m   1023\u001b[0m )\n\u001b[1;32m   1024\u001b[0m kwds\u001b[38;5;241m.\u001b[39mupdate(kwds_defaults)\n\u001b[0;32m-> 1026\u001b[0m \u001b[38;5;28;01mreturn\u001b[39;00m _read(filepath_or_buffer, kwds)\n",
      "File \u001b[0;32m/opt/anaconda3/envs/torch/lib/python3.12/site-packages/pandas/io/parsers/readers.py:626\u001b[0m, in \u001b[0;36m_read\u001b[0;34m(filepath_or_buffer, kwds)\u001b[0m\n\u001b[1;32m    623\u001b[0m     \u001b[38;5;28;01mreturn\u001b[39;00m parser\n\u001b[1;32m    625\u001b[0m \u001b[38;5;28;01mwith\u001b[39;00m parser:\n\u001b[0;32m--> 626\u001b[0m     \u001b[38;5;28;01mreturn\u001b[39;00m parser\u001b[38;5;241m.\u001b[39mread(nrows)\n",
      "File \u001b[0;32m/opt/anaconda3/envs/torch/lib/python3.12/site-packages/pandas/io/parsers/readers.py:1923\u001b[0m, in \u001b[0;36mTextFileReader.read\u001b[0;34m(self, nrows)\u001b[0m\n\u001b[1;32m   1916\u001b[0m nrows \u001b[38;5;241m=\u001b[39m validate_integer(\u001b[38;5;124m\"\u001b[39m\u001b[38;5;124mnrows\u001b[39m\u001b[38;5;124m\"\u001b[39m, nrows)\n\u001b[1;32m   1917\u001b[0m \u001b[38;5;28;01mtry\u001b[39;00m:\n\u001b[1;32m   1918\u001b[0m     \u001b[38;5;66;03m# error: \"ParserBase\" has no attribute \"read\"\u001b[39;00m\n\u001b[1;32m   1919\u001b[0m     (\n\u001b[1;32m   1920\u001b[0m         index,\n\u001b[1;32m   1921\u001b[0m         columns,\n\u001b[1;32m   1922\u001b[0m         col_dict,\n\u001b[0;32m-> 1923\u001b[0m     ) \u001b[38;5;241m=\u001b[39m \u001b[38;5;28mself\u001b[39m\u001b[38;5;241m.\u001b[39m_engine\u001b[38;5;241m.\u001b[39mread(  \u001b[38;5;66;03m# type: ignore[attr-defined]\u001b[39;00m\n\u001b[1;32m   1924\u001b[0m         nrows\n\u001b[1;32m   1925\u001b[0m     )\n\u001b[1;32m   1926\u001b[0m \u001b[38;5;28;01mexcept\u001b[39;00m \u001b[38;5;167;01mException\u001b[39;00m:\n\u001b[1;32m   1927\u001b[0m     \u001b[38;5;28mself\u001b[39m\u001b[38;5;241m.\u001b[39mclose()\n",
      "File \u001b[0;32m/opt/anaconda3/envs/torch/lib/python3.12/site-packages/pandas/io/parsers/c_parser_wrapper.py:234\u001b[0m, in \u001b[0;36mCParserWrapper.read\u001b[0;34m(self, nrows)\u001b[0m\n\u001b[1;32m    232\u001b[0m \u001b[38;5;28;01mtry\u001b[39;00m:\n\u001b[1;32m    233\u001b[0m     \u001b[38;5;28;01mif\u001b[39;00m \u001b[38;5;28mself\u001b[39m\u001b[38;5;241m.\u001b[39mlow_memory:\n\u001b[0;32m--> 234\u001b[0m         chunks \u001b[38;5;241m=\u001b[39m \u001b[38;5;28mself\u001b[39m\u001b[38;5;241m.\u001b[39m_reader\u001b[38;5;241m.\u001b[39mread_low_memory(nrows)\n\u001b[1;32m    235\u001b[0m         \u001b[38;5;66;03m# destructive to chunks\u001b[39;00m\n\u001b[1;32m    236\u001b[0m         data \u001b[38;5;241m=\u001b[39m _concatenate_chunks(chunks)\n",
      "\u001b[0;31mKeyboardInterrupt\u001b[0m: "
     ]
    }
   ],
   "source": [
    "new_fliker_comment_toeknizer = FlikerCommentTokenizer.get_tokenizer(config=config)\n",
    "\n",
    "# test_data = \"hello, 會 員\"\n",
    "test_data = \"<image><bos>cheng bai<pad><eos>\"\n",
    "test_data_encoded = new_fliker_comment_toeknizer.encode(test_data)\n",
    "print(f\"encoded: {test_data_encoded}\")\n",
    "test_data_decoded = new_fliker_comment_toeknizer.decode(test_data_encoded)\n",
    "print(f\"decode: {test_data_decoded}\")"
   ]
  },
  {
   "cell_type": "code",
   "execution_count": null,
   "metadata": {},
   "outputs": [],
   "source": []
  }
 ],
 "metadata": {
  "kernelspec": {
   "display_name": "torch",
   "language": "python",
   "name": "python3"
  },
  "language_info": {
   "codemirror_mode": {
    "name": "ipython",
    "version": 3
   },
   "file_extension": ".py",
   "mimetype": "text/x-python",
   "name": "python",
   "nbconvert_exporter": "python",
   "pygments_lexer": "ipython3",
   "version": "3.12.4"
  }
 },
 "nbformat": 4,
 "nbformat_minor": 2
}
