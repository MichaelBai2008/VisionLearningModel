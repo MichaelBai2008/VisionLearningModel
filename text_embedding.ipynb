{
 "cells": [
  {
   "cell_type": "code",
   "execution_count": 7,
   "metadata": {},
   "outputs": [
    {
     "name": "stdout",
     "output_type": "stream",
     "text": [
      "The autoreload extension is already loaded. To reload it, use:\n",
      "  %reload_ext autoreload\n"
     ]
    }
   ],
   "source": [
    "%load_ext autoreload\n",
    "%autoreload 2\n",
    "\n",
    "import torch\n",
    "import torch.nn as nn\n",
    "import torch.functional as F\n",
    "from torch.utils.data import DataLoader\n",
    "\n",
    "from Config import Config\n",
    "from Fliker_Image_Comment_Dataset import ImgCommentDataset\n",
    "from text_token_embedding import TextTokenEmbedding\n",
    "\n",
    "from pathlib import Path"
   ]
  },
  {
   "cell_type": "code",
   "execution_count": 8,
   "metadata": {},
   "outputs": [
    {
     "name": "stdout",
     "output_type": "stream",
     "text": [
      "Enriched img id: /tmp/enriched_results.csv\n",
      "batch_img_tensor: torch.Size([2, 3, 224, 224])\n",
      "batch_img_id_tensor: torch.Size([2])\n",
      "batch_comment_encoding: torch.Size([2, 50])\n",
      "batch_comment_mask: torch.Size([2, 50])\n"
     ]
    }
   ],
   "source": [
    "config = Config()\n",
    "train_dataset = ImgCommentDataset(config, split=\"train\")\n",
    "\n",
    "BATCH_SIZE = 2\n",
    "batch_img_tensor, batch_img_id_tensor, batch_comment_encoding, batch_comment_mask = (\n",
    "    next(iter(train_dataloader))\n",
    ")\n",
    "print(f\"batch_img_tensor: {batch_img_tensor.size()}\")\n",
    "print(f\"batch_img_id_tensor: {batch_img_id_tensor.size()}\")\n",
    "print(f\"batch_comment_encoding: {batch_comment_encoding.size()}\")\n",
    "print(f\"batch_comment_mask: {batch_comment_mask.size()}\")"
   ]
  },
  {
   "cell_type": "code",
   "execution_count": 8,
   "metadata": {},
   "outputs": [
    {
     "name": "stdout",
     "output_type": "stream",
     "text": [
      "tokens: 128000\n",
      "tokenizer.is_fast: True\n"
     ]
    },
    {
     "ename": "NameError",
     "evalue": "name 'batch_comment_encoding' is not defined",
     "output_type": "error",
     "traceback": [
      "\u001b[0;31m---------------------------------------------------------------------------\u001b[0m",
      "\u001b[0;31mNameError\u001b[0m                                 Traceback (most recent call last)",
      "Cell \u001b[0;32mIn[8], line 2\u001b[0m\n\u001b[1;32m      1\u001b[0m text_token_embedding \u001b[38;5;241m=\u001b[39m TextTokenEmbedding(config\u001b[38;5;241m=\u001b[39mconfig)\n\u001b[0;32m----> 2\u001b[0m token_embedding \u001b[38;5;241m=\u001b[39m text_token_embedding(batch_comment_encoding)\n\u001b[1;32m      3\u001b[0m \u001b[38;5;28mprint\u001b[39m(\u001b[38;5;124mf\u001b[39m\u001b[38;5;124m\"\u001b[39m\u001b[38;5;124mbatch_comment_encoding: \u001b[39m\u001b[38;5;132;01m{\u001b[39;00mbatch_comment_encoding\u001b[38;5;241m.\u001b[39msize()\u001b[38;5;132;01m}\u001b[39;00m\u001b[38;5;124m\"\u001b[39m)\n\u001b[1;32m      4\u001b[0m \u001b[38;5;28mprint\u001b[39m(\u001b[38;5;124mf\u001b[39m\u001b[38;5;124m\"\u001b[39m\u001b[38;5;124mtoken_embedding: \u001b[39m\u001b[38;5;132;01m{\u001b[39;00mtoken_embedding\u001b[38;5;241m.\u001b[39msize()\u001b[38;5;132;01m}\u001b[39;00m\u001b[38;5;124m\"\u001b[39m)\n",
      "\u001b[0;31mNameError\u001b[0m: name 'batch_comment_encoding' is not defined"
     ]
    }
   ],
   "source": [
    "text_token_embedding = TextTokenEmbedding(config=config)\n",
    "token_embedding = text_token_embedding(batch_comment_encoding)\n",
    "print(f\"batch_comment_encoding: {batch_comment_encoding.size()}\")\n",
    "print(f\"token_embedding: {token_embedding.size()}\")"
   ]
  },
  {
   "cell_type": "code",
   "execution_count": 9,
   "metadata": {},
   "outputs": [
    {
     "ename": "NameError",
     "evalue": "name 'batch_comment_encoding' is not defined",
     "output_type": "error",
     "traceback": [
      "\u001b[0;31m---------------------------------------------------------------------------\u001b[0m",
      "\u001b[0;31mNameError\u001b[0m                                 Traceback (most recent call last)",
      "Cell \u001b[0;32mIn[9], line 1\u001b[0m\n\u001b[0;32m----> 1\u001b[0m text_token_embedding\u001b[38;5;241m.\u001b[39mtext_encoder\u001b[38;5;241m.\u001b[39mdecode(\u001b[38;5;28mlist\u001b[39m(batch_comment_encoding[\u001b[38;5;241m0\u001b[39m]))\n",
      "\u001b[0;31mNameError\u001b[0m: name 'batch_comment_encoding' is not defined"
     ]
    }
   ],
   "source": [
    "text_token_embedding.text_encoder.decode(list(batch_comment_encoding[0]))"
   ]
  },
  {
   "cell_type": "code",
   "execution_count": null,
   "metadata": {},
   "outputs": [],
   "source": []
  }
 ],
 "metadata": {
  "kernelspec": {
   "display_name": "torch",
   "language": "python",
   "name": "python3"
  },
  "language_info": {
   "codemirror_mode": {
    "name": "ipython",
    "version": 3
   },
   "file_extension": ".py",
   "mimetype": "text/x-python",
   "name": "python",
   "nbconvert_exporter": "python",
   "pygments_lexer": "ipython3",
   "version": "3.12.4"
  }
 },
 "nbformat": 4,
 "nbformat_minor": 2
}
