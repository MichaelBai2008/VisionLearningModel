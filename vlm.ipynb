#Tool import
###
import pandas as pd
from pathlib import Path

import torch
from torch.utils.data import Dataset, DataLoader
from torchvision import transforms
from PIL import Image
import matplotlib.pyplot as plt
import tiktoken

#Import image files & 
###
image_comments_folder = Path("/Users/michaelbai/ML/dataset/flickr30k_images")
image_comments_file = image_comments_folder / "results.csv" 
images_folder = image_comments_folder / "flickr30k_images"
print(image_comments_file)
list(images_folder.glob("*.jpg"))[:2]