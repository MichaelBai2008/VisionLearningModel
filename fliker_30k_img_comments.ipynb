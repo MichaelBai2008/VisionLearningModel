{
 "cells": [
  {
   "cell_type": "code",
   "execution_count": 2,
   "metadata": {},
   "outputs": [],
   "source": [
    "%load_ext autoreload\n",
    "%autoreload 2\n",
    "\n",
    "import matplotlib.pyplot as plt\n",
    "import pandas as pd\n",
    "\n",
    "from Config import Config\n",
    "from Image_Util import show_img_tensor_CHW\n",
    "from Fliker_Image_Comment_Dataset import ImgCommentDataset\n",
    "from pathlib import Path\n",
    "import torch\n",
    "from torch.utils.data import DataLoader"
   ]
  },
  {
   "cell_type": "code",
   "execution_count": 3,
   "metadata": {},
   "outputs": [
    {
     "data": {
      "text/plain": [
       "[PosixPath('/Users/michaelbai/ML/dataset/flickr30k_images/flickr30k_images/2609797461.jpg'),\n",
       " PosixPath('/Users/michaelbai/ML/dataset/flickr30k_images/flickr30k_images/1788892671.jpg')]"
      ]
     },
     "execution_count": 3,
     "metadata": {},
     "output_type": "execute_result"
    }
   ],
   "source": [
    "config = Config()\n",
    "\n",
    "img_comments_file = config.img_comments_folder / \"results.csv\" \n",
    "imgs_folder = config.img_comments_folder / \"flickr30k_images\"\n",
    "\n",
    "list(imgs_folder.glob(\"*.jpg\"))[:2]"
   ]
  },
  {
   "cell_type": "code",
   "execution_count": 4,
   "metadata": {},
   "outputs": [
    {
     "data": {
      "text/plain": [
       "(['1000092795.jpg'], '1000092795.jpg')"
      ]
     },
     "execution_count": 4,
     "metadata": {},
     "output_type": "execute_result"
    }
   ],
   "source": [
    "# The current `results.csv` file is using \"| \" to seperate 3 columns. \n",
    "# For the pd.read_csv, the `sep` here is given as a regular expression. \n",
    "df = pd.read_csv(img_comments_file, sep=\"|\", index_col=False)\n",
    "df = df.astype({'image_name': 'str', 'comment_number': int, 'comment': str})\n",
    "df1 = df[0: 1]\n",
    "list(df1[\"image_name\"]), df1[\"image_name\"][0]"
   ]
  },
  {
   "cell_type": "code",
   "execution_count": 4,
   "metadata": {},
   "outputs": [
    {
     "name": "stdout",
     "output_type": "stream",
     "text": [
      "Enriched img id: /tmp/enriched_results.csv\n",
      "Enriched img id: /tmp/enriched_results.csv\n",
      "Enriched img id: /tmp/enriched_results.csv\n",
      "Enriched img id: /tmp/enriched_results.csv\n",
      "Enriched img id: /tmp/enriched_results.csv\n",
      "Enriched img id: /tmp/enriched_results.csv\n",
      "Enriched img id: /tmp/enriched_results.csv\n",
      "Enriched img id: /tmp/enriched_results.csv\n",
      "Enriched img id: /tmp/enriched_results.csv\n",
      "Enriched img id: /tmp/enriched_results.csv\n",
      "Enriched img id: /tmp/enriched_results.csv\n",
      "Enriched img id: /tmp/enriched_results.csv\n",
      "Enriched img id: /tmp/enriched_results.csv\n",
      "Enriched img id: /tmp/enriched_results.csv\n",
      "Enriched img id: /tmp/enriched_results.csv\n",
      "Enriched img id: /tmp/enriched_results.csv\n",
      "Enriched img id: /tmp/enriched_results.csv\n",
      "Enriched img id: /tmp/enriched_results.csv\n",
      "Enriched img id: /tmp/enriched_results.csv\n",
      "Enriched img id: /tmp/enriched_results.csv\n",
      "Enriched img id: /tmp/enriched_results.csv\n",
      "Enriched img id: /tmp/enriched_results.csv\n",
      "Enriched img id: /tmp/enriched_results.csv\n",
      "Enriched img id: /tmp/enriched_results.csv\n",
      "Enriched img id: /tmp/enriched_results.csv\n",
      "Enriched img id: /tmp/enriched_results.csv\n",
      "Enriched img id: /tmp/enriched_results.csv\n",
      "Enriched img id: /tmp/enriched_results.csv\n",
      "Enriched img id: /tmp/enriched_results.csv\n",
      "Enriched img id: /tmp/enriched_results.csv\n",
      "Enriched img id: /tmp/enriched_results.csv\n",
      "Enriched img id: /tmp/enriched_results.csv\n",
      "Enriched img id: /tmp/enriched_results.csv\n",
      "Enriched img id: /tmp/enriched_results.csv\n",
      "Enriched img id: /tmp/enriched_results.csv\n",
      "Enriched img id: /tmp/enriched_results.csv\n",
      "Enriched img id: /tmp/enriched_results.csv\n",
      "Enriched img id: /tmp/enriched_results.csv\n",
      "Enriched img id: /tmp/enriched_results.csv\n",
      "Enriched img id: /tmp/enriched_results.csv\n",
      "Enriched img id: /tmp/enriched_results.csv\n",
      "Enriched img id: /tmp/enriched_results.csv\n",
      "Enriched img id: /tmp/enriched_results.csv\n",
      "Enriched img id: /tmp/enriched_results.csv\n",
      "Enriched img id: /tmp/enriched_results.csv\n",
      "Enriched img id: /tmp/enriched_results.csv\n",
      "Enriched img id: /tmp/enriched_results.csv\n",
      "Enriched img id: /tmp/enriched_results.csv\n",
      "Enriched img id: /tmp/enriched_results.csv\n",
      "Enriched img id: /tmp/enriched_results.csv\n"
     ]
    }
   ],
   "source": [
    "train_dataset = ImgCommentDataset(config, split=\"train\")\n",
    "eval_dataset = ImgCommentDataset(config, split=\"eval\")\n",
    "test_dataset = ImgCommentDataset(config, split=\"test\")\n",
    "print(len(train_dataset), len(eval_dataset), len(test_dataset))"
   ]
  },
  {
   "cell_type": "code",
   "execution_count": 5,
   "metadata": {},
   "outputs": [
    {
     "ename": "NameError",
     "evalue": "name 'train_dataset' is not defined",
     "output_type": "error",
     "traceback": [
      "\u001b[0;31m---------------------------------------------------------------------------\u001b[0m",
      "\u001b[0;31mNameError\u001b[0m                                 Traceback (most recent call last)",
      "Cell \u001b[0;32mIn[5], line 3\u001b[0m\n\u001b[1;32m      1\u001b[0m \u001b[38;5;66;03m# Data Loader\u001b[39;00m\n\u001b[1;32m      2\u001b[0m BATCH_SIZE \u001b[38;5;241m=\u001b[39m \u001b[38;5;241m2\u001b[39m\n\u001b[0;32m----> 3\u001b[0m train_dataloader \u001b[38;5;241m=\u001b[39m DataLoader(train_dataset, batch_size\u001b[38;5;241m=\u001b[39mBATCH_SIZE, shuffle\u001b[38;5;241m=\u001b[39m\u001b[38;5;28;01mTrue\u001b[39;00m)\n\u001b[1;32m      4\u001b[0m eval_dataloader \u001b[38;5;241m=\u001b[39m DataLoader(eval_dataset, batch_size\u001b[38;5;241m=\u001b[39mBATCH_SIZE, shuffle\u001b[38;5;241m=\u001b[39m\u001b[38;5;28;01mTrue\u001b[39;00m)\n\u001b[1;32m      5\u001b[0m test_dataloader \u001b[38;5;241m=\u001b[39m DataLoader(test_dataset, batch_size\u001b[38;5;241m=\u001b[39mBATCH_SIZE, shuffle\u001b[38;5;241m=\u001b[39m\u001b[38;5;28;01mTrue\u001b[39;00m)\n",
      "\u001b[0;31mNameError\u001b[0m: name 'train_dataset' is not defined"
     ]
    }
   ],
   "source": [
    "# Data Loader\n",
    "BATCH_SIZE = 2\n",
    "train_dataloader = DataLoader(train_dataset, batch_size=BATCH_SIZE, shuffle=True)\n",
    "eval_dataloader = DataLoader(eval_dataset, batch_size=BATCH_SIZE, shuffle=True)\n",
    "test_dataloader = DataLoader(test_dataset, batch_size=BATCH_SIZE, shuffle=True)"
   ]
  },
  {
   "cell_type": "code",
   "execution_count": null,
   "metadata": {},
   "outputs": [],
   "source": []
  }
 ],
 "metadata": {
  "kernelspec": {
   "display_name": "torch",
   "language": "python",
   "name": "python3"
  },
  "language_info": {
   "codemirror_mode": {
    "name": "ipython",
    "version": 3
   },
   "file_extension": ".py",
   "mimetype": "text/x-python",
   "name": "python",
   "nbconvert_exporter": "python",
   "pygments_lexer": "ipython3",
   "version": "3.12.4"
  }
 },
 "nbformat": 4,
 "nbformat_minor": 2
}
